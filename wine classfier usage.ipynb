{
 "cells": [
  {
   "cell_type": "code",
   "execution_count": 3,
   "id": "royal-attendance",
   "metadata": {},
   "outputs": [],
   "source": [
    "from joblib import load\n",
    "import numpy as np"
   ]
  },
  {
   "cell_type": "code",
   "execution_count": 2,
   "id": "thick-disco",
   "metadata": {},
   "outputs": [],
   "source": [
    "model=load('wine classifier.joblib')"
   ]
  },
  {
   "cell_type": "code",
   "execution_count": 7,
   "id": "moderate-withdrawal",
   "metadata": {},
   "outputs": [],
   "source": [
    "features=np.array([[0.39020686, -0.63796267,  1.77747839, -1.25279306,  0.66997716,\n",
    "        0.50590028,  0.71931585, -0.18146404, -0.41903211, -0.17304314,\n",
    "        0.62331663,  0.27133513,  0.43651416]])"
   ]
  },
  {
   "cell_type": "code",
   "execution_count": 8,
   "id": "acting-duplicate",
   "metadata": {},
   "outputs": [
    {
     "data": {
      "text/plain": [
       "array([[ 0.39020686, -0.63796267,  1.77747839, -1.25279306,  0.66997716,\n",
       "         0.50590028,  0.71931585, -0.18146404, -0.41903211, -0.17304314,\n",
       "         0.62331663,  0.27133513,  0.43651416]])"
      ]
     },
     "execution_count": 8,
     "metadata": {},
     "output_type": "execute_result"
    }
   ],
   "source": [
    "features"
   ]
  },
  {
   "cell_type": "code",
   "execution_count": 9,
   "id": "exotic-bleeding",
   "metadata": {},
   "outputs": [
    {
     "data": {
      "text/plain": [
       "array([1], dtype=int64)"
      ]
     },
     "execution_count": 9,
     "metadata": {},
     "output_type": "execute_result"
    }
   ],
   "source": [
    "model.predict(features)"
   ]
  },
  {
   "cell_type": "code",
   "execution_count": null,
   "id": "covered-rover",
   "metadata": {},
   "outputs": [],
   "source": []
  }
 ],
 "metadata": {
  "kernelspec": {
   "display_name": "Python 3",
   "language": "python",
   "name": "python3"
  },
  "language_info": {
   "codemirror_mode": {
    "name": "ipython",
    "version": 3
   },
   "file_extension": ".py",
   "mimetype": "text/x-python",
   "name": "python",
   "nbconvert_exporter": "python",
   "pygments_lexer": "ipython3",
   "version": "3.9.0"
  }
 },
 "nbformat": 4,
 "nbformat_minor": 5
}
